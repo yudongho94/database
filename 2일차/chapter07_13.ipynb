{
 "cells": [
  {
   "cell_type": "markdown",
   "metadata": {},
   "source": [
    "[문제10]\n",
    "\n",
    "데이터 제어 언어(DCL)인 GRANT에 대한 설명으로 옳은 것을 골라주세요\n",
    "\n",
    "- 사용자에게 특정 작업을 수행할 권한을 부여한다.\n",
    "- 사용자로부터 특정 작업 수행 권항을 제거한다.\n",
    "- 다른 사용자에게 동일한 권한을 전달할때 사용한다.\n",
    "- 부여된 권한 중 일부를 제한할때 사용한다."
   ]
  },
  {
   "cell_type": "markdown",
   "metadata": {},
   "source": [
    "정답 : 사용자에게 특정 작업을 수행할 권한을 부여한다."
   ]
  },
  {
   "cell_type": "markdown",
   "metadata": {},
   "source": [
    "[문제11]\n",
    "\n",
    "테이블을 생성하기 위해서 사용되는 sql문을 선택해주세요\n",
    "\n",
    "- CREATE TABLE\n",
    "- CREATE NEW TABLE\n",
    "- ADD TABLE\n",
    "- UPDATE TABLE"
   ]
  },
  {
   "cell_type": "markdown",
   "metadata": {},
   "source": [
    "정답 : create table"
   ]
  },
  {
   "cell_type": "markdown",
   "metadata": {},
   "source": [
    "[문제12]\n",
    "\n",
    "테이블 생성 시 컬럼(속성)에 값이 항상 존재하도록 설정하는 명령어를 선택해주세요\n",
    "\n",
    "- IS NULL\n",
    "- NOT NULL\n",
    "- IN NULL\n",
    "- NULL"
   ]
  },
  {
   "cell_type": "markdown",
   "metadata": {},
   "source": [
    "정답 : not null"
   ]
  },
  {
   "cell_type": "markdown",
   "metadata": {},
   "source": [
    "[문제13]\n",
    "\n",
    "테이블 생성 시 컬럼(속성)에 중복된 값을 허용하지 않도록 설정하는 명령어를 모두 선택해주세요\n",
    "\n",
    "- UNIQUE\n",
    "- DEFAULT False\n",
    "- PRIMARY KEY\n",
    "- AUTO_INCREMENT"
   ]
  },
  {
   "cell_type": "markdown",
   "metadata": {},
   "source": [
    "정답 : unique, primary key"
   ]
  },
  {
   "cell_type": "markdown",
   "metadata": {},
   "source": [
    "[문제14]\n",
    "\n",
    "데이터베이스의 숫자형 데이터 타입이 아닌것을 선택해주세요\n",
    "\n",
    "- BIT\n",
    "- INT\n",
    "- CHAR\n",
    "- BIGINT"
   ]
  },
  {
   "cell_type": "markdown",
   "metadata": {},
   "source": [
    "정답 : char"
   ]
  },
  {
   "cell_type": "markdown",
   "metadata": {},
   "source": [
    "[문제15]\n",
    "\n",
    "날짜와 시간을 같이 나타내는 데이터 타입을 선택해주세요\n",
    "\n",
    "- DATE\n",
    "- TIME\n",
    "- DATETIME"
   ]
  },
  {
   "cell_type": "markdown",
   "metadata": {},
   "source": [
    "정답 : datetime"
   ]
  },
  {
   "cell_type": "markdown",
   "metadata": {},
   "source": [
    "[문제16]\n",
    "\n",
    "CHAR과 VARCHAR의 차이로 옳은 것을 선택해 주세요\n",
    "\n",
    "- 저장할 수 있는 데이터 종류(문자, 숫자)가 다름\n",
    "- 데이터를 담을 수 있는 공간이 고정인지 가변인지의 차이\n",
    "- 문자열 값을 정수로 표현할 수 있는지의 차이\n",
    "- 한번 입력된 데이터의 수정 여부의 차이"
   ]
  },
  {
   "cell_type": "markdown",
   "metadata": {},
   "source": [
    "정답 : 데이터를 담을 수 있는 공간이 고정인지 가변인지의 차이"
   ]
  },
  {
   "cell_type": "markdown",
   "metadata": {},
   "source": [
    "[문제17]\n",
    "\n",
    "데이터베이스 내의 트랜잭션을 관리하는데 사용되는 언어를 선택해주세요\n",
    "\n",
    "- DCL\n",
    "- DML\n",
    "- TCL\n",
    "- DDL"
   ]
  },
  {
   "cell_type": "markdown",
   "metadata": {},
   "source": [
    "정답 : tcl"
   ]
  },
  {
   "cell_type": "markdown",
   "metadata": {},
   "source": [
    "[문제18]\n",
    "\n",
    "칼럼에 저장될 수 있는 값의 범위나 조건을 지정하는 명령어를 선택해주세요\n",
    "\n",
    "- IN\n",
    "- WHERE\n",
    "- CHECK\n",
    "- ON"
   ]
  },
  {
   "cell_type": "markdown",
   "metadata": {},
   "source": [
    "정답 : check"
   ]
  },
  {
   "cell_type": "markdown",
   "metadata": {},
   "source": [
    "#### 프로젝트 개요\n",
    "\n",
    "이 프로젝트는 사용자 정보와 주문 정보를 관리하는 간단한 데이터베이스 시스템을 구축하는 것입니다. \n",
    "\n",
    "이를 통해 MySQL의 사용자 관리, 테이블 생성, 데이터 타입, 제약 조건 등을 실습할 수 있습니다.\n",
    "\n",
    "##### 프로젝트 구성\n",
    "1. MySQL 사용자 생성 및 권한 부여\n",
    "2. 데이터베이스와 테이블 생성"
   ]
  },
  {
   "cell_type": "markdown",
   "metadata": {},
   "source": [
    "#### 과제 1: MySQL 사용자 생성 및 권한 부여\n",
    "\n",
    "목표: MySQL에서 새로운 사용자를 생성하고, 권한을 부여합니다.\n",
    "\n",
    "##### 개념 설명:\n",
    "\n",
    "- MySQL 사용자: 데이터베이스에 접근하고 작업을 수행할 수 있는 계정을 의미합니다.\n",
    "- 권한 부여: 특정 사용자에게 데이터베이스와 테이블에 대해 작업할 수 있는 권한을 부여합니다.\n",
    "\n",
    "##### 세부 내용:\n",
    "1. MySQL에 root 사용자로 로그인:\n",
    "\n",
    "- mysql -u root -p\n",
    "\n",
    "2. 새로운 MySQL 사용자 생성:\n",
    "\n",
    "- create database fishbread_database;\n",
    "- use fishbread_database;\n",
    "- create user'fishbread_user1'@'localhost'identified by '1111'\n",
    "\n",
    "3. 사용자에게 권한 부여:\n",
    "\n",
    "- grant all privileges on *.* to 'fishbread_user1'@'localhost';\n",
    "- lush privileges;\n",
    "\n",
    "4. 부여된 권한 확인:\n",
    "\n",
    "- how grants for 'fishbread_user1'@'localhost';"
   ]
  },
  {
   "cell_type": "markdown",
   "metadata": {},
   "source": [
    "#### 과제 2: 데이터베이스와 테이블 생성\n",
    "목표: 사용자와 주문 정보를 저장할 데이터베이스와 테이블을 생성합니다.\n",
    "\n",
    "개념 설명:\n",
    "\n",
    "- 데이터베이스: 데이터를 체계적으로 관리하는 공간입니다.\n",
    "- 테이블: 데이터베이스 내에서 데이터를 저장하는 구조입니다.\n",
    "\n",
    "데이터베이스 및 테이블 설계\n",
    "1. 데이터베이스 생성:\n",
    "\n",
    "- create database fishbread_db;\n",
    "- use fishbread_db;\n",
    "\n",
    "\n",
    "2. users 테이블 생성:\n",
    "\n",
    "- create table users(\n",
    "    user_id int primary key auto_increment,\n",
    "    username varchar(255) not null,\n",
    "    age int not null,\n",
    "    email varchar(100) unique\n",
    "    is_business default false\n",
    ");\n",
    "\n",
    "3. orders 테이블 생성:\n",
    "\n",
    "- create table orders(\n",
    "\torder_id int primary key auto_increment,\n",
    "    user_id int,\n",
    "    foreign key (user_id) references users(user_id),\n",
    "    order_date date,\n",
    "    amount decimal(10,2)\n",
    ");\n",
    "\n",
    "4. inventory 테이블 생성:\n",
    "\n",
    "- create table inventory(\n",
    "\titem_id int primary key auto_increment,\n",
    "    item_name varchar(255) not null,\n",
    "    quantity int not null\n",
    ");\n",
    "\n",
    "5. sales 테이블 생성:\n",
    "\n",
    "- create table sales(\n",
    "\tsale_id int primary key auto_increment,\n",
    "    order_id int,\n",
    "    foreign key (order_id) references orders(order_id),\n",
    "    item_id int,\n",
    "    foreign key (item_id) references inventory(item_id),\n",
    "    quantity_sold int not null\n",
    ");\n",
    "\n",
    "6. daily_sales 테이블 생성:\n",
    "\n",
    "- create table dayli_sales(\n",
    "\tdate date primary key,\n",
    "    total_sales decimal(10, 2) not null\n",
    ");"
   ]
  },
  {
   "cell_type": "markdown",
   "metadata": {},
   "source": []
  }
 ],
 "metadata": {
  "language_info": {
   "name": "python"
  }
 },
 "nbformat": 4,
 "nbformat_minor": 2
}
