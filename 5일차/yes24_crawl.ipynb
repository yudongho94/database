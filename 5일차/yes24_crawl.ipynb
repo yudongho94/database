{
 "cells": [
  {
   "cell_type": "markdown",
   "metadata": {},
   "source": [
    "### 예스24 크롤링"
   ]
  },
  {
   "cell_type": "code",
   "execution_count": 3,
   "metadata": {},
   "outputs": [
    {
     "data": {
      "text/plain": [
       "'/Users/yudongho/.wdm/drivers/chromedriver/mac64/129.0.6668.89/chromedriver-mac-arm64/chromedriver'"
      ]
     },
     "execution_count": 3,
     "metadata": {},
     "output_type": "execute_result"
    }
   ],
   "source": [
    "from webdriver_manager.chrome import ChromeDriverManager\n",
    "ChromeDriverManager().install()"
   ]
  },
  {
   "cell_type": "code",
   "execution_count": 4,
   "metadata": {},
   "outputs": [],
   "source": [
    "from selenium import webdriver\n",
    "browser = webdriver.Chrome()"
   ]
  },
  {
   "cell_type": "code",
   "execution_count": 5,
   "metadata": {},
   "outputs": [],
   "source": [
    "url = 'https://google.com'\n",
    "browser.get(url)"
   ]
  },
  {
   "cell_type": "code",
   "execution_count": 7,
   "metadata": {},
   "outputs": [
    {
     "data": {
      "text/plain": [
       "'대한민국'"
      ]
     },
     "execution_count": 7,
     "metadata": {},
     "output_type": "execute_result"
    }
   ],
   "source": [
    "from selenium.webdriver.common.by import By\n",
    "browser.find_element(By.CLASS_NAME, 'uU7dJb').text"
   ]
  },
  {
   "cell_type": "code",
   "execution_count": 8,
   "metadata": {},
   "outputs": [],
   "source": [
    "url = 'https://www.yes24.com/Product/Category/BestSeller?pageNumber=1&pageSize=24&categoryNumber=001'\n",
    "browser.get(url)"
   ]
  },
  {
   "cell_type": "code",
   "execution_count": null,
   "metadata": {},
   "outputs": [],
   "source": [
    "# 1페이지의 링크 데이터 전부 수집\n",
    "\n",
    "### 한 개의 베스트 셀러 링크 수집\n",
    "browser.find_element(By.CLASS_NAME, 'gd_name').get_attribute('href')\n",
    "\n",
    "### 1페이지 전체의 링크 데이터\n",
    "# browser.find_element(By.CLASS_NAME, 'gd_name') # element: 요소\n",
    "datas = browser.find_elements(By.CLASS_NAME, 'gd_name') # elements: 리스트\n",
    "\n",
    "for i in datas:\n",
    "    print(i.get_attribute('href'))"
   ]
  },
  {
   "cell_type": "code",
   "execution_count": 19,
   "metadata": {},
   "outputs": [
    {
     "name": "stdout",
     "output_type": "stream",
     "text": [
      "현재 1페이지 수집 중입니다. **********\n",
      "현재 2페이지 수집 중입니다. **********\n",
      "현재 3페이지 수집 중입니다. **********\n",
      "['https://www.yes24.com/Product/Goods/133213071', 'https://www.yes24.com/Product/Goods/125557465', 'https://www.yes24.com/Product/Goods/133870359', 'https://www.yes24.com/Product/Goods/104663596', 'https://www.yes24.com/Product/Goods/131930939', 'https://www.yes24.com/Product/Goods/133199014', 'https://www.yes24.com/Product/Goods/133312039', 'https://www.yes24.com/Product/Goods/133236068', 'https://www.yes24.com/Product/Goods/132560712', 'https://www.yes24.com/Product/Goods/128266166', 'https://www.yes24.com/Product/Goods/117014613', 'https://www.yes24.com/Product/Goods/124999476', 'https://www.yes24.com/Product/Goods/132181262', 'https://www.yes24.com/Product/Goods/129602366', 'https://www.yes24.com/Product/Goods/130135671', 'https://www.yes24.com/Product/Goods/8759796', 'https://www.yes24.com/Product/Goods/130174102', 'https://www.yes24.com/Product/Goods/132565140', 'https://www.yes24.com/Product/Goods/102457889', 'https://www.yes24.com/Product/Goods/133813184', 'https://www.yes24.com/Product/Goods/124043812', 'https://www.yes24.com/Product/Goods/130500819', 'https://www.yes24.com/Product/Goods/124043802', 'https://www.yes24.com/Product/Goods/118322901', 'https://www.yes24.com/Product/Goods/129124029', 'https://www.yes24.com/Product/Goods/96547408', 'https://www.yes24.com/Product/Goods/133824761', 'https://www.yes24.com/Product/Goods/122120495', 'https://www.yes24.com/Product/Goods/132772043', 'https://www.yes24.com/Product/Goods/133138701', 'https://www.yes24.com/Product/Goods/124539805', 'https://www.yes24.com/Product/Goods/116586303', 'https://www.yes24.com/Product/Goods/123930891', 'https://www.yes24.com/Product/Goods/133756359', 'https://www.yes24.com/Product/Goods/123930880', 'https://www.yes24.com/Product/Goods/104687898', 'https://www.yes24.com/Product/Goods/133896038', 'https://www.yes24.com/Product/Goods/133128647', 'https://www.yes24.com/Product/Goods/132754223', 'https://www.yes24.com/Product/Goods/95721612', 'https://www.yes24.com/Product/Goods/109145992', 'https://www.yes24.com/Product/Goods/128917300', 'https://www.yes24.com/Product/Goods/133673008', 'https://www.yes24.com/Product/Goods/124225606', 'https://www.yes24.com/Product/Goods/108192000', 'https://www.yes24.com/Product/Goods/67362730', 'https://www.yes24.com/Product/Goods/133757215', 'https://www.yes24.com/Product/Goods/133741785', 'https://www.yes24.com/Product/Goods/128133897', 'https://www.yes24.com/Product/Goods/132619282', 'https://www.yes24.com/Product/Goods/133809259', 'https://www.yes24.com/Product/Goods/79297023', 'https://www.yes24.com/Product/Goods/110641272', 'https://www.yes24.com/Product/Goods/127050264', 'https://www.yes24.com/Product/Goods/125295101', 'https://www.yes24.com/Product/Goods/2312211', 'https://www.yes24.com/Product/Goods/132973896', 'https://www.yes24.com/Product/Goods/133127953', 'https://www.yes24.com/Product/Goods/111680193', 'https://www.yes24.com/Product/Goods/23030284', 'https://www.yes24.com/Product/Goods/133812584', 'https://www.yes24.com/Product/Goods/133757252', 'https://www.yes24.com/Product/Goods/133812270', 'https://www.yes24.com/Product/Goods/133874602', 'https://www.yes24.com/Product/Goods/123675187', 'https://www.yes24.com/Product/Goods/125992096', 'https://www.yes24.com/Product/Goods/132190133', 'https://www.yes24.com/Product/Goods/118578901', 'https://www.yes24.com/Product/Goods/133305839', 'https://www.yes24.com/Product/Goods/65067259', 'https://www.yes24.com/Product/Goods/133809279', 'https://www.yes24.com/Product/Goods/125492144']\n"
     ]
    }
   ],
   "source": [
    "# 3페이지까지의 링크 데이터 전부 수집\n",
    "# https://www.yes24.com/Product/Category/BestSeller?categoryNumber=001&pageNumber=1&pageSize=24\n",
    "# https://www.yes24.com/Product/Category/BestSeller?categoryNumber=001&pageNumber=2&pageSize=24\n",
    "# https://www.yes24.com/Product/Category/BestSeller?categoryNumber=001&pageNumber=3&pageSize=24\n",
    "\n",
    "import time\n",
    "\n",
    "link_list = []\n",
    "\n",
    "for i in range (1,4):\n",
    "    print(f'현재 {i}페이지 수집 중입니다.', '*' * 10)\n",
    "    url = f'https://www.yes24.com/Product/Category/BestSeller?categoryNumber=001&pageNumber={i}&pageSize=24'\n",
    "    browser.get(url)\n",
    "\n",
    "    browser.find_element(By.CLASS_NAME, 'gd_name').get_attribute('href')\n",
    "    ### 1페이지 전체의 링크 데이터\n",
    "    # # browser.find_element(By.CLASS_NAME, 'gd_name') # element: 요소\n",
    "    datas = browser.find_elements(By.CLASS_NAME, 'gd_name') # elements: 리스트\n",
    "    for i in datas:\n",
    "        link = i.get_attribute('href')\n",
    "        link_list.append(link)\n",
    "    \n",
    "    time.sleep(3)\n",
    "\n",
    "print(link_list)"
   ]
  },
  {
   "cell_type": "code",
   "execution_count": 20,
   "metadata": {},
   "outputs": [
    {
     "data": {
      "text/plain": [
       "72"
      ]
     },
     "execution_count": 20,
     "metadata": {},
     "output_type": "execute_result"
    }
   ],
   "source": [
    "len(link_list)"
   ]
  },
  {
   "cell_type": "code",
   "execution_count": 51,
   "metadata": {},
   "outputs": [
    {
     "data": {
      "text/plain": [
       "'베스트 국내도서 1위 국내도서 1위 1주'"
      ]
     },
     "execution_count": 51,
     "metadata": {},
     "output_type": "execute_result"
    }
   ],
   "source": [
    "# for link in link_list:\n",
    "    # 상세 페이지로 이동\n",
    "#     browser.get(link)\n",
    "\n",
    "browser.get(link_list[0])\n",
    "\n",
    "title = browser.find_element(By.CLASS_NAME, 'gd_name').text\n",
    "\n",
    "autor = browser.find_element(By.CLASS_NAME, 'gd_pubArea').text\n",
    "\n",
    "publisher = browser.find_element(By.CLASS_NAME, 'gd_pub').text\n",
    "\n",
    "publishing = browser.find_element(By.CLASS_NAME, 'gd_date').text\n",
    "\n",
    "rating = browser.find_element(By.CLASS_NAME, 'yes_b').text\n",
    "\n",
    "reviews = browser.find_element(By.CLASS_NAME, 'gd_reviewCount').text\n",
    "\n",
    "sales = browser.find_element(By.CLASS_NAME, 'gd_sellNum').text.split (\" \")[2]\n",
    "\n",
    "price = browser.find_element(By.CLASS_NAME, 'yes_m').text[:-1]\n",
    "\n",
    "browser.find_element(By.CLASS_NAME, 'gd_best').text\n",
    "\n"
   ]
  },
  {
   "cell_type": "code",
   "execution_count": null,
   "metadata": {},
   "outputs": [],
   "source": [
    "# 상세 페이지 이동 후 데이터 크롤링"
   ]
  }
 ],
 "metadata": {
  "kernelspec": {
   "display_name": ".venv",
   "language": "python",
   "name": "python3"
  },
  "language_info": {
   "codemirror_mode": {
    "name": "ipython",
    "version": 3
   },
   "file_extension": ".py",
   "mimetype": "text/x-python",
   "name": "python",
   "nbconvert_exporter": "python",
   "pygments_lexer": "ipython3",
   "version": "3.12.6"
  }
 },
 "nbformat": 4,
 "nbformat_minor": 2
}
